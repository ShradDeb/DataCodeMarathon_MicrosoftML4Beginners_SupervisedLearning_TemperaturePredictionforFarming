{
 "cells": [
  {
   "cell_type": "markdown",
   "id": "ef16fc68-3fc7-42d5-b9e2-1a0165507a2e",
   "metadata": {},
   "source": [
    "# Farming Scenario:\n",
    "Consider our desire to predict what the temperature will be on January 31 of a given year. For this prediction, we need data with two components:\n",
    "\n",
    "**Feature: Date**\n",
    "**Label: Daily temperature (for example, from historical records)**\n",
    "\n",
    "In the scenario, we provide the date feature to the model. The model predicts the temperature, and we compare this result to the dataset's \"correct\" temperature. The objective function can then calculate how well the model worked, and we can make adjustments to the model."
   ]
  },
  {
   "cell_type": "markdown",
   "id": "39784af9-e534-4fca-a923-e95a768d28f1",
   "metadata": {},
   "source": [
    "# Exercise: Supervised learning\n",
    "\n",
    "Recall our farming scenario, in which we want to look at how January temperatures have changed over time. Now, we'll build a model that achieves this by using supervised learning. \n",
    "\n",
    "With many libraries, we can build a model in only a few lines of code. Here, we'll break down the process into steps so that we can explore how things work.\n",
    "\n",
    "## Four components\n",
    "Recall that there are four key components to supervised learning: the data, the model, the cost function, and the optimizer. Let's inspect these one at a time.\n",
    "\n",
    "### 1. The data\n",
    "\n",
    "We'll use publicly available weather data for Seattle. Let's load that and restrict it to January temperatures."
   ]
  },
  {
   "cell_type": "code",
   "execution_count": 4,
   "id": "9a936a2a-a938-41c8-b127-129dcd59bb9c",
   "metadata": {},
   "outputs": [
    {
     "ename": "NameError",
     "evalue": "name 'kagglehub' is not defined",
     "output_type": "error",
     "traceback": [
      "\u001b[0;31m---------------------------------------------------------------------------\u001b[0m",
      "\u001b[0;31mNameError\u001b[0m                                 Traceback (most recent call last)",
      "Cell \u001b[0;32mIn[4], line 4\u001b[0m\n\u001b[1;32m      1\u001b[0m \u001b[38;5;28;01mimport\u001b[39;00m \u001b[38;5;21;01mpandas\u001b[39;00m \u001b[38;5;28;01mas\u001b[39;00m \u001b[38;5;21;01mpd\u001b[39;00m\n\u001b[1;32m      3\u001b[0m \u001b[38;5;66;03m#Load a file that contains the weather data for Seattle\u001b[39;00m\n\u001b[0;32m----> 4\u001b[0m url \u001b[38;5;241m=\u001b[39m kagglehub\u001b[38;5;241m.\u001b[39mload_dataset(\n\u001b[1;32m      5\u001b[0m   KaggleDatasetAdapter\u001b[38;5;241m.\u001b[39mPANDAS,\n\u001b[1;32m      6\u001b[0m   \u001b[38;5;124m\"\u001b[39m\u001b[38;5;124mrtatman/did-it-rain-in-seattle-19482017\u001b[39m\u001b[38;5;124m\"\u001b[39m,\n\u001b[1;32m      7\u001b[0m   file_path,\n\u001b[1;32m      8\u001b[0m   \u001b[38;5;66;03m# Provide any additional arguments like \u001b[39;00m\n\u001b[1;32m      9\u001b[0m   \u001b[38;5;66;03m# sql_query or pandas_kwargs. See the \u001b[39;00m\n\u001b[1;32m     10\u001b[0m   \u001b[38;5;66;03m# documenation for more information:\u001b[39;00m\n\u001b[1;32m     11\u001b[0m   \u001b[38;5;66;03m# https://github.com/Kaggle/kagglehub/blob/main/README.md#kaggledatasetadapterpandas\u001b[39;00m\n\u001b[1;32m     12\u001b[0m )\n\u001b[1;32m     13\u001b[0m data \u001b[38;5;241m=\u001b[39m pd\u001b[38;5;241m.\u001b[39mread_csv(url)\n",
      "\u001b[0;31mNameError\u001b[0m: name 'kagglehub' is not defined"
     ]
    }
   ],
   "source": [
    "import pandas as pd\n",
    "\n",
    "#Load a file that contains the weather data for Seattle\n",
    "url = kagglehub.load_dataset(\n",
    "  KaggleDatasetAdapter.PANDAS,\n",
    "  \"rtatman/did-it-rain-in-seattle-19482017\",\n",
    "  file_path,\n",
    "  # Provide any additional arguments like \n",
    "  # sql_query or pandas_kwargs. See the \n",
    "  # documenation for more information:\n",
    "  # https://github.com/Kaggle/kagglehub/blob/main/README.md#kaggledatasetadapterpandas\n",
    ")\n",
    "data = pd.read_csv(url)"
   ]
  },
  {
   "cell_type": "code",
   "execution_count": null,
   "id": "5a2ecfdf-a0cf-4a05-8256-594216caa2f3",
   "metadata": {},
   "outputs": [],
   "source": []
  }
 ],
 "metadata": {
  "kernelspec": {
   "display_name": "Python [conda env:base] *",
   "language": "python",
   "name": "conda-base-py"
  },
  "language_info": {
   "codemirror_mode": {
    "name": "ipython",
    "version": 3
   },
   "file_extension": ".py",
   "mimetype": "text/x-python",
   "name": "python",
   "nbconvert_exporter": "python",
   "pygments_lexer": "ipython3",
   "version": "3.12.7"
  }
 },
 "nbformat": 4,
 "nbformat_minor": 5
}
